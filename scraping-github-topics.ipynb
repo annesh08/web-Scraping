{
 "cells": [
  {
   "cell_type": "markdown",
   "id": "c4d35db9",
   "metadata": {},
   "source": [
    "# Top Repositories for Github Topics"
   ]
  },
  {
   "cell_type": "code",
   "execution_count": null,
   "id": "9948923c",
   "metadata": {},
   "outputs": [],
   "source": []
  },
  {
   "cell_type": "markdown",
   "id": "f1ca099a",
   "metadata": {},
   "source": [
    "## Pick a website and describe your objective\n",
    "\n",
    "- Browse through different sites and pick on to scrape. \n",
    "- Identify the information you'd like to scrape from the site. Decide the format of the output CSV file.\n",
    "- Summarize your project idea and outline your strategy in a Juptyer notebook. Use the \"New\" button above."
   ]
  },
  {
   "cell_type": "markdown",
   "id": "e4f8d259",
   "metadata": {},
   "source": [
    "## Outline:-\n",
    "\n",
    "- Scrape https://github.com/topics\n",
    "- Get a list of topics. For each topic get topic title, topic url and description.\n",
    "- For each topic get the top 25 repositories.\n",
    "- For each repository, grab the repo name, username, stars and repo url.\n",
    "- Each topic should have its own csv file. Format:-\n",
    "\n",
    "Repo Name,Username,Stars,Repo URL"
   ]
  },
  {
   "cell_type": "code",
   "execution_count": null,
   "id": "de44a034",
   "metadata": {},
   "outputs": [],
   "source": []
  },
  {
   "cell_type": "markdown",
   "id": "1b5ed888",
   "metadata": {},
   "source": [
    "## Use the requests library to download web pages"
   ]
  },
  {
   "cell_type": "code",
   "execution_count": 3,
   "id": "c44ed3b4",
   "metadata": {},
   "outputs": [
    {
     "name": "stdout",
     "output_type": "stream",
     "text": [
      "Requirement already satisfied: requests in d:\\anaconda3\\lib\\site-packages (2.26.0)\n",
      "Requirement already satisfied: idna<4,>=2.5 in d:\\anaconda3\\lib\\site-packages (from requests) (3.2)\n",
      "Requirement already satisfied: urllib3<1.27,>=1.21.1 in d:\\anaconda3\\lib\\site-packages (from requests) (1.26.6)\n",
      "Requirement already satisfied: certifi>=2017.4.17 in d:\\anaconda3\\lib\\site-packages (from requests) (2021.5.30)\n",
      "Requirement already satisfied: charset-normalizer~=2.0.0 in d:\\anaconda3\\lib\\site-packages (from requests) (2.0.4)\n"
     ]
    }
   ],
   "source": [
    "!pip install requests --upgrade"
   ]
  },
  {
   "cell_type": "code",
   "execution_count": 4,
   "id": "436aefba",
   "metadata": {},
   "outputs": [],
   "source": [
    "import requests"
   ]
  },
  {
   "cell_type": "code",
   "execution_count": 5,
   "id": "e1a0fe38",
   "metadata": {},
   "outputs": [],
   "source": [
    "topics_url = 'https://github.com/topics'"
   ]
  },
  {
   "cell_type": "code",
   "execution_count": 6,
   "id": "b1b3d773",
   "metadata": {},
   "outputs": [],
   "source": [
    "response = requests.get(topics_url)"
   ]
  },
  {
   "cell_type": "code",
   "execution_count": 8,
   "id": "40770fe9",
   "metadata": {},
   "outputs": [
    {
     "data": {
      "text/plain": [
       "200"
      ]
     },
     "execution_count": 8,
     "metadata": {},
     "output_type": "execute_result"
    }
   ],
   "source": [
    "response.status_code #check the response to know if request was successful"
   ]
  },
  {
   "cell_type": "code",
   "execution_count": 9,
   "id": "05592b34",
   "metadata": {},
   "outputs": [
    {
     "data": {
      "text/plain": [
       "146935"
      ]
     },
     "execution_count": 9,
     "metadata": {},
     "output_type": "execute_result"
    }
   ],
   "source": [
    "len(response.text)"
   ]
  },
  {
   "cell_type": "code",
   "execution_count": 10,
   "id": "033fb37d",
   "metadata": {},
   "outputs": [],
   "source": [
    "page_contents = response.text"
   ]
  },
  {
   "cell_type": "code",
   "execution_count": 15,
   "id": "9da74cb5",
   "metadata": {},
   "outputs": [],
   "source": [
    "with open('webpage.html','w',encoding=\"utf-8\") as f:\n",
    "    f.write(page_contents)"
   ]
  },
  {
   "cell_type": "markdown",
   "id": "2c73f0f9",
   "metadata": {},
   "source": [
    "## Use Beautiful Soup to parse and extract information"
   ]
  },
  {
   "cell_type": "code",
   "execution_count": 16,
   "id": "a504de69",
   "metadata": {},
   "outputs": [
    {
     "name": "stdout",
     "output_type": "stream",
     "text": [
      "Requirement already satisfied: beautifulsoup4 in d:\\anaconda3\\lib\\site-packages (4.9.3)\n",
      "Collecting beautifulsoup4\n",
      "  Downloading beautifulsoup4-4.10.0-py3-none-any.whl (97 kB)\n",
      "Requirement already satisfied: soupsieve>1.2 in d:\\anaconda3\\lib\\site-packages (from beautifulsoup4) (2.2.1)\n",
      "Installing collected packages: beautifulsoup4\n",
      "  Attempting uninstall: beautifulsoup4\n",
      "    Found existing installation: beautifulsoup4 4.9.3\n",
      "    Uninstalling beautifulsoup4-4.9.3:\n",
      "      Successfully uninstalled beautifulsoup4-4.9.3\n",
      "Successfully installed beautifulsoup4-4.10.0\n"
     ]
    }
   ],
   "source": [
    "!pip install beautifulsoup4 --upgrade"
   ]
  },
  {
   "cell_type": "code",
   "execution_count": 17,
   "id": "c4b83046",
   "metadata": {},
   "outputs": [],
   "source": [
    "from bs4 import BeautifulSoup"
   ]
  },
  {
   "cell_type": "code",
   "execution_count": 18,
   "id": "adfd4de2",
   "metadata": {},
   "outputs": [],
   "source": [
    "doc = BeautifulSoup(page_contents, 'html.parser')"
   ]
  },
  {
   "cell_type": "code",
   "execution_count": 25,
   "id": "e8dc614e",
   "metadata": {},
   "outputs": [],
   "source": [
    "selec_class = \"f3 lh-condensed mb-0 mt-1 Link--primary\"\n",
    "\n",
    "topic_title_tags = doc.find_all('p',{'class':selec_class}) #Query to get the topic names"
   ]
  },
  {
   "cell_type": "code",
   "execution_count": 26,
   "id": "07277021",
   "metadata": {},
   "outputs": [
    {
     "data": {
      "text/plain": [
       "30"
      ]
     },
     "execution_count": 26,
     "metadata": {},
     "output_type": "execute_result"
    }
   ],
   "source": [
    "len(topic_title_tags)"
   ]
  },
  {
   "cell_type": "code",
   "execution_count": 27,
   "id": "67a75cd4",
   "metadata": {},
   "outputs": [
    {
     "data": {
      "text/plain": [
       "[<p class=\"f3 lh-condensed mb-0 mt-1 Link--primary\">3D</p>,\n",
       " <p class=\"f3 lh-condensed mb-0 mt-1 Link--primary\">Ajax</p>,\n",
       " <p class=\"f3 lh-condensed mb-0 mt-1 Link--primary\">Algorithm</p>,\n",
       " <p class=\"f3 lh-condensed mb-0 mt-1 Link--primary\">Amp</p>,\n",
       " <p class=\"f3 lh-condensed mb-0 mt-1 Link--primary\">Android</p>,\n",
       " <p class=\"f3 lh-condensed mb-0 mt-1 Link--primary\">Angular</p>,\n",
       " <p class=\"f3 lh-condensed mb-0 mt-1 Link--primary\">Ansible</p>,\n",
       " <p class=\"f3 lh-condensed mb-0 mt-1 Link--primary\">API</p>,\n",
       " <p class=\"f3 lh-condensed mb-0 mt-1 Link--primary\">Arduino</p>,\n",
       " <p class=\"f3 lh-condensed mb-0 mt-1 Link--primary\">ASP.NET</p>]"
      ]
     },
     "execution_count": 27,
     "metadata": {},
     "output_type": "execute_result"
    }
   ],
   "source": [
    "topic_title_tags[:10]"
   ]
  },
  {
   "cell_type": "code",
   "execution_count": 28,
   "id": "b718ee3e",
   "metadata": {},
   "outputs": [],
   "source": [
    "desc_class = \"f5 color-text-secondary mb-0 mt-1\"\n",
    "\n",
    "topic_desc_tags = doc.find_all('p',{'class':desc_class}) #Query to get the topic descriptions"
   ]
  },
  {
   "cell_type": "code",
   "execution_count": 29,
   "id": "3d453eaf",
   "metadata": {},
   "outputs": [
    {
     "data": {
      "text/plain": [
       "30"
      ]
     },
     "execution_count": 29,
     "metadata": {},
     "output_type": "execute_result"
    }
   ],
   "source": [
    "len(topic_desc_tags)"
   ]
  },
  {
   "cell_type": "code",
   "execution_count": 30,
   "id": "6cea39de",
   "metadata": {},
   "outputs": [
    {
     "data": {
      "text/plain": [
       "[<p class=\"f5 color-text-secondary mb-0 mt-1\">\n",
       "               3D modeling is the process of virtually developing the surface and structure of a 3D object.\n",
       "             </p>,\n",
       " <p class=\"f5 color-text-secondary mb-0 mt-1\">\n",
       "               Ajax is a technique for creating interactive web applications.\n",
       "             </p>,\n",
       " <p class=\"f5 color-text-secondary mb-0 mt-1\">\n",
       "               Algorithms are self-contained sequences that carry out a variety of tasks.\n",
       "             </p>,\n",
       " <p class=\"f5 color-text-secondary mb-0 mt-1\">\n",
       "               Amp is a non-blocking concurrency framework for PHP.\n",
       "             </p>,\n",
       " <p class=\"f5 color-text-secondary mb-0 mt-1\">\n",
       "               Android is an operating system built by Google designed for mobile devices.\n",
       "             </p>,\n",
       " <p class=\"f5 color-text-secondary mb-0 mt-1\">\n",
       "               Angular is an open source web application platform.\n",
       "             </p>,\n",
       " <p class=\"f5 color-text-secondary mb-0 mt-1\">\n",
       "               Ansible is a simple and powerful automation engine.\n",
       "             </p>,\n",
       " <p class=\"f5 color-text-secondary mb-0 mt-1\">\n",
       "               An API (Application Programming Interface) is a collection of protocols and subroutines for building software.\n",
       "             </p>,\n",
       " <p class=\"f5 color-text-secondary mb-0 mt-1\">\n",
       "               Arduino is an open source hardware and software company and maker community.\n",
       "             </p>,\n",
       " <p class=\"f5 color-text-secondary mb-0 mt-1\">\n",
       "               ASP.NET is a web framework for building modern web apps and services.\n",
       "             </p>]"
      ]
     },
     "execution_count": 30,
     "metadata": {},
     "output_type": "execute_result"
    }
   ],
   "source": [
    "topic_desc_tags[:10]"
   ]
  },
  {
   "cell_type": "code",
   "execution_count": 31,
   "id": "c9e6dcea",
   "metadata": {},
   "outputs": [],
   "source": [
    "url_class = 'd-flex no-underline'\n",
    "\n",
    "url_tags = doc.find_all('a',{'class':url_class})"
   ]
  },
  {
   "cell_type": "code",
   "execution_count": 32,
   "id": "2b5d9c42",
   "metadata": {},
   "outputs": [
    {
     "data": {
      "text/plain": [
       "30"
      ]
     },
     "execution_count": 32,
     "metadata": {},
     "output_type": "execute_result"
    }
   ],
   "source": [
    "len(url_tags)"
   ]
  },
  {
   "cell_type": "code",
   "execution_count": 35,
   "id": "dcc32ee3",
   "metadata": {},
   "outputs": [
    {
     "data": {
      "text/plain": [
       "'/topics/atom'"
      ]
     },
     "execution_count": 35,
     "metadata": {},
     "output_type": "execute_result"
    }
   ],
   "source": [
    "url_tags[10]['href']"
   ]
  },
  {
   "cell_type": "markdown",
   "id": "273c17ff",
   "metadata": {},
   "source": [
    "Now lets clean the data"
   ]
  },
  {
   "cell_type": "code",
   "execution_count": 36,
   "id": "23c4d746",
   "metadata": {},
   "outputs": [],
   "source": [
    "topic_titles = []\n",
    "\n",
    "for tag in topic_title_tags:\n",
    "    topic_titles.append(tag.text)"
   ]
  },
  {
   "cell_type": "code",
   "execution_count": 37,
   "id": "2a5b0aa5",
   "metadata": {},
   "outputs": [
    {
     "data": {
      "text/plain": [
       "['3D',\n",
       " 'Ajax',\n",
       " 'Algorithm',\n",
       " 'Amp',\n",
       " 'Android',\n",
       " 'Angular',\n",
       " 'Ansible',\n",
       " 'API',\n",
       " 'Arduino',\n",
       " 'ASP.NET',\n",
       " 'Atom',\n",
       " 'Awesome Lists',\n",
       " 'Amazon Web Services',\n",
       " 'Azure',\n",
       " 'Babel',\n",
       " 'Bash',\n",
       " 'Bitcoin',\n",
       " 'Bootstrap',\n",
       " 'Bot',\n",
       " 'C',\n",
       " 'Chrome',\n",
       " 'Chrome extension',\n",
       " 'Command line interface',\n",
       " 'Clojure',\n",
       " 'Code quality',\n",
       " 'Code review',\n",
       " 'Compiler',\n",
       " 'Continuous integration',\n",
       " 'COVID-19',\n",
       " 'C++']"
      ]
     },
     "execution_count": 37,
     "metadata": {},
     "output_type": "execute_result"
    }
   ],
   "source": [
    "topic_titles #List of all topic titles"
   ]
  },
  {
   "cell_type": "code",
   "execution_count": 40,
   "id": "ddb755bf",
   "metadata": {},
   "outputs": [],
   "source": [
    "topic_descs = []\n",
    "\n",
    "for tag in topic_desc_tags:\n",
    "    topic_descs.append(tag.text.strip()) #strip() removes spaces from front and end"
   ]
  },
  {
   "cell_type": "code",
   "execution_count": 41,
   "id": "e4d98b87",
   "metadata": {},
   "outputs": [
    {
     "data": {
      "text/plain": [
       "['3D modeling is the process of virtually developing the surface and structure of a 3D object.',\n",
       " 'Ajax is a technique for creating interactive web applications.',\n",
       " 'Algorithms are self-contained sequences that carry out a variety of tasks.',\n",
       " 'Amp is a non-blocking concurrency framework for PHP.',\n",
       " 'Android is an operating system built by Google designed for mobile devices.',\n",
       " 'Angular is an open source web application platform.',\n",
       " 'Ansible is a simple and powerful automation engine.',\n",
       " 'An API (Application Programming Interface) is a collection of protocols and subroutines for building software.',\n",
       " 'Arduino is an open source hardware and software company and maker community.',\n",
       " 'ASP.NET is a web framework for building modern web apps and services.',\n",
       " 'Atom is a open source text editor built with web technologies.',\n",
       " 'An awesome list is a list of awesome things curated by the community.',\n",
       " 'Amazon Web Services provides on-demand cloud computing platforms on a subscription basis.',\n",
       " 'Azure is a cloud computing service created by Microsoft.',\n",
       " 'Babel is a compiler for writing next generation JavaScript, today.',\n",
       " 'Bash is a shell and command language interpreter for the GNU operating system.',\n",
       " 'Bitcoin is a cryptocurrency developed by Satoshi Nakamoto.',\n",
       " 'Bootstrap is an HTML, CSS, and JavaScript framework.',\n",
       " 'A bot is an application that runs automated tasks over the Internet.',\n",
       " 'C is a general purpose programming language that first appeared in 1972.',\n",
       " 'Chrome is a web browser from the tech company Google.',\n",
       " 'Google Chrome Extensions are add-ons that allow users to customize their Chrome web browser.',\n",
       " 'A CLI, or command-line interface, is a console that helps users issue commands to a program.',\n",
       " 'Clojure is a dynamic, general-purpose programming language.',\n",
       " 'Automate your code review with style, quality, security, and test‑coverage checks when you need them.',\n",
       " 'Ensure your code meets quality standards and ship with confidence.',\n",
       " 'Compilers are software that translate higher-level programming languages to lower-level languages (e.g. machine code).',\n",
       " 'Automatically build and test your code as you push it upstream, preventing bugs from being deployed to production.',\n",
       " 'The coronavirus disease 2019 (COVID-19) is an infectious disease caused by SARS-CoV-2.',\n",
       " 'C++ is a general purpose and object-oriented programming language.']"
      ]
     },
     "execution_count": 41,
     "metadata": {},
     "output_type": "execute_result"
    }
   ],
   "source": [
    "topic_descs #List of all topic descriptions"
   ]
  },
  {
   "cell_type": "code",
   "execution_count": 44,
   "id": "c17b5b20",
   "metadata": {},
   "outputs": [],
   "source": [
    "topic_urls = []\n",
    "base_url = \"https://github.com/topics\"\n",
    "\n",
    "for tag in url_tags:\n",
    "    topic_urls.append(base_url+tag['href'])"
   ]
  },
  {
   "cell_type": "code",
   "execution_count": 45,
   "id": "bbe7e786",
   "metadata": {},
   "outputs": [
    {
     "data": {
      "text/plain": [
       "['https://github.com/topics/topics/3d',\n",
       " 'https://github.com/topics/topics/ajax',\n",
       " 'https://github.com/topics/topics/algorithm',\n",
       " 'https://github.com/topics/topics/amphp',\n",
       " 'https://github.com/topics/topics/android',\n",
       " 'https://github.com/topics/topics/angular',\n",
       " 'https://github.com/topics/topics/ansible',\n",
       " 'https://github.com/topics/topics/api',\n",
       " 'https://github.com/topics/topics/arduino',\n",
       " 'https://github.com/topics/topics/aspnet',\n",
       " 'https://github.com/topics/topics/atom',\n",
       " 'https://github.com/topics/topics/awesome',\n",
       " 'https://github.com/topics/topics/aws',\n",
       " 'https://github.com/topics/topics/azure',\n",
       " 'https://github.com/topics/topics/babel',\n",
       " 'https://github.com/topics/topics/bash',\n",
       " 'https://github.com/topics/topics/bitcoin',\n",
       " 'https://github.com/topics/topics/bootstrap',\n",
       " 'https://github.com/topics/topics/bot',\n",
       " 'https://github.com/topics/topics/c',\n",
       " 'https://github.com/topics/topics/chrome',\n",
       " 'https://github.com/topics/topics/chrome-extension',\n",
       " 'https://github.com/topics/topics/cli',\n",
       " 'https://github.com/topics/topics/clojure',\n",
       " 'https://github.com/topics/topics/code-quality',\n",
       " 'https://github.com/topics/topics/code-review',\n",
       " 'https://github.com/topics/topics/compiler',\n",
       " 'https://github.com/topics/topics/continuous-integration',\n",
       " 'https://github.com/topics/topics/covid-19',\n",
       " 'https://github.com/topics/topics/cpp']"
      ]
     },
     "execution_count": 45,
     "metadata": {},
     "output_type": "execute_result"
    }
   ],
   "source": [
    "topic_urls"
   ]
  },
  {
   "cell_type": "markdown",
   "id": "05ed4487",
   "metadata": {},
   "source": [
    "### Now use pandas to create dataframe"
   ]
  },
  {
   "cell_type": "code",
   "execution_count": 46,
   "id": "878b9ba2",
   "metadata": {},
   "outputs": [],
   "source": [
    "import pandas as pd"
   ]
  },
  {
   "cell_type": "code",
   "execution_count": 47,
   "id": "df7c4e55",
   "metadata": {},
   "outputs": [],
   "source": [
    "topic_dict = {\n",
    "    'title':topic_titles,\n",
    "    'description':topic_descs,\n",
    "    'url':topic_urls\n",
    "}"
   ]
  },
  {
   "cell_type": "code",
   "execution_count": 49,
   "id": "f62cb03f",
   "metadata": {},
   "outputs": [],
   "source": [
    "topic_df = pd.DataFrame(topic_dict)"
   ]
  },
  {
   "cell_type": "code",
   "execution_count": 51,
   "id": "c8214231",
   "metadata": {},
   "outputs": [
    {
     "data": {
      "text/html": [
       "<div>\n",
       "<style scoped>\n",
       "    .dataframe tbody tr th:only-of-type {\n",
       "        vertical-align: middle;\n",
       "    }\n",
       "\n",
       "    .dataframe tbody tr th {\n",
       "        vertical-align: top;\n",
       "    }\n",
       "\n",
       "    .dataframe thead th {\n",
       "        text-align: right;\n",
       "    }\n",
       "</style>\n",
       "<table border=\"1\" class=\"dataframe\">\n",
       "  <thead>\n",
       "    <tr style=\"text-align: right;\">\n",
       "      <th></th>\n",
       "      <th>title</th>\n",
       "      <th>description</th>\n",
       "      <th>url</th>\n",
       "    </tr>\n",
       "  </thead>\n",
       "  <tbody>\n",
       "    <tr>\n",
       "      <th>0</th>\n",
       "      <td>3D</td>\n",
       "      <td>3D modeling is the process of virtually develo...</td>\n",
       "      <td>https://github.com/topics/topics/3d</td>\n",
       "    </tr>\n",
       "    <tr>\n",
       "      <th>1</th>\n",
       "      <td>Ajax</td>\n",
       "      <td>Ajax is a technique for creating interactive w...</td>\n",
       "      <td>https://github.com/topics/topics/ajax</td>\n",
       "    </tr>\n",
       "    <tr>\n",
       "      <th>2</th>\n",
       "      <td>Algorithm</td>\n",
       "      <td>Algorithms are self-contained sequences that c...</td>\n",
       "      <td>https://github.com/topics/topics/algorithm</td>\n",
       "    </tr>\n",
       "    <tr>\n",
       "      <th>3</th>\n",
       "      <td>Amp</td>\n",
       "      <td>Amp is a non-blocking concurrency framework fo...</td>\n",
       "      <td>https://github.com/topics/topics/amphp</td>\n",
       "    </tr>\n",
       "    <tr>\n",
       "      <th>4</th>\n",
       "      <td>Android</td>\n",
       "      <td>Android is an operating system built by Google...</td>\n",
       "      <td>https://github.com/topics/topics/android</td>\n",
       "    </tr>\n",
       "  </tbody>\n",
       "</table>\n",
       "</div>"
      ],
      "text/plain": [
       "       title                                        description  \\\n",
       "0         3D  3D modeling is the process of virtually develo...   \n",
       "1       Ajax  Ajax is a technique for creating interactive w...   \n",
       "2  Algorithm  Algorithms are self-contained sequences that c...   \n",
       "3        Amp  Amp is a non-blocking concurrency framework fo...   \n",
       "4    Android  Android is an operating system built by Google...   \n",
       "\n",
       "                                          url  \n",
       "0         https://github.com/topics/topics/3d  \n",
       "1       https://github.com/topics/topics/ajax  \n",
       "2  https://github.com/topics/topics/algorithm  \n",
       "3      https://github.com/topics/topics/amphp  \n",
       "4    https://github.com/topics/topics/android  "
      ]
     },
     "execution_count": 51,
     "metadata": {},
     "output_type": "execute_result"
    }
   ],
   "source": [
    "topic_df.head()"
   ]
  },
  {
   "cell_type": "code",
   "execution_count": 52,
   "id": "f2b15fce",
   "metadata": {},
   "outputs": [],
   "source": [
    "topic_df.to_csv('topics.csv',index=None)"
   ]
  },
  {
   "cell_type": "code",
   "execution_count": null,
   "id": "3c72422d",
   "metadata": {},
   "outputs": [],
   "source": []
  }
 ],
 "metadata": {
  "kernelspec": {
   "display_name": "Python 3 (ipykernel)",
   "language": "python",
   "name": "python3"
  },
  "language_info": {
   "codemirror_mode": {
    "name": "ipython",
    "version": 3
   },
   "file_extension": ".py",
   "mimetype": "text/x-python",
   "name": "python",
   "nbconvert_exporter": "python",
   "pygments_lexer": "ipython3",
   "version": "3.7.3"
  }
 },
 "nbformat": 4,
 "nbformat_minor": 5
}
